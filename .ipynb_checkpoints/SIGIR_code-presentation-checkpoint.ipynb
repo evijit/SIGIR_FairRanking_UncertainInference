{
 "cells": [
  {
   "cell_type": "code",
   "execution_count": 1,
   "metadata": {},
   "outputs": [],
   "source": [
    "import math\n",
    "import random\n",
    "import numpy as np\n",
    "import pandas as pd\n",
    "import matplotlib\n",
    "import matplotlib.pyplot as plt\n",
    "import seaborn as sns\n",
    "sns.set_style('darkgrid')\n",
    "import matplotlib.ticker as ticker\n",
    "from matplotlib.ticker import ScalarFormatter\n",
    "import json\n",
    "from collections import Counter\n",
    "import pickle"
   ]
  },
  {
   "cell_type": "code",
   "execution_count": 2,
   "metadata": {},
   "outputs": [],
   "source": [
    "seedcount = 42"
   ]
  },
  {
   "cell_type": "code",
   "execution_count": 3,
   "metadata": {},
   "outputs": [],
   "source": [
    "def seed_everything(seed=100):\n",
    "    random.seed(seed)\n",
    "    np.random.seed(seed)\n",
    "    \n",
    "seed_everything(seedcount)\n",
    "seedcount+=1"
   ]
  },
  {
   "cell_type": "markdown",
   "metadata": {},
   "source": [
    "# Skew@K"
   ]
  },
  {
   "cell_type": "code",
   "execution_count": 4,
   "metadata": {},
   "outputs": [],
   "source": [
    "def skewk(rankedlist, prob, attr, k): \n",
    "    count = 0\n",
    "    epsilon = 0.000001\n",
    "    for item in rankedlist[:k]:\n",
    "        if item['real_attr']==attr:\n",
    "            count+=1\n",
    "    frac_ranked = count/k\n",
    "    countall = 0\n",
    "#     for item in rankedlist:\n",
    "#         if item['attr']==attr:\n",
    "#             countall+=1\n",
    "    frac_real = prob[attr]\n",
    "    return (frac_ranked+epsilon)/(frac_real+epsilon) #Removed math.log"
   ]
  },
  {
   "cell_type": "markdown",
   "metadata": {},
   "source": [
    "# NDKL"
   ]
  },
  {
   "cell_type": "code",
   "execution_count": 5,
   "metadata": {},
   "outputs": [],
   "source": [
    "def KL(p, q):\n",
    "    \"\"\" Computes Kullback-Leibler divergence between two distributions.\n",
    "    Both p and q must be dictionaries from events to probabilities.\n",
    "    The divergence is defined only when q[event] == 0 implies p[event] == 0.\n",
    "    \"\"\"\n",
    "    KL = 0\n",
    "    epsilon = 1e-10\n",
    "    for i in p:\n",
    "        if p[i]>0:\n",
    "            KL+= p[i] * math.log((p[i]+epsilon)/(q[i]+epsilon))\n",
    "        else:\n",
    "            KL+=0\n",
    "    return KL"
   ]
  },
  {
   "cell_type": "code",
   "execution_count": 6,
   "metadata": {},
   "outputs": [],
   "source": [
    "def NDKL(tau,q):\n",
    "    Z = sum(1/math.log2(i+1) for i in range(1,len(tau)+1))\n",
    "    DKL = 0\n",
    "    #q = getdist(tau)\n",
    "    for k in range(1,len(tau)+1):\n",
    "        p = getdist(tau[:k])\n",
    "        DKL+= (1/math.log2(k+1))*KL(p,q)\n",
    "    return DKL/Z"
   ]
  },
  {
   "cell_type": "markdown",
   "metadata": {},
   "source": [
    "# NDCG"
   ]
  },
  {
   "cell_type": "code",
   "execution_count": 7,
   "metadata": {},
   "outputs": [],
   "source": [
    "def DCG(R, k, method=0):\n",
    "    r = [i['score'] for i in R]\n",
    "    r = np.asfarray(r)[:k]\n",
    "    if r.size:\n",
    "        if method == 0:\n",
    "            return r[0] + np.sum(r[1:] / np.log2(np.arange(2, r.size + 1)))\n",
    "        elif method == 1:\n",
    "            return np.sum(r / np.log2(np.arange(2, r.size + 2)))\n",
    "        else:\n",
    "            raise ValueError('method must be 0 or 1.')\n",
    "    return 0.\n",
    "\n",
    "\n",
    "def NDCG(r, k, method=0):\n",
    "    dcg_max = DCG(sorted(r, key = lambda i: i['score'],reverse=True), k, method)\n",
    "    if not dcg_max:\n",
    "        return 0.\n",
    "    return DCG(r, k, method) / dcg_max"
   ]
  },
  {
   "cell_type": "code",
   "execution_count": 8,
   "metadata": {},
   "outputs": [],
   "source": [
    "def getdist(p):  \n",
    "    # Given a list, return the protected attr dist as a dictionary \n",
    "    d = {}\n",
    "    for person in p:\n",
    "        if person['real_attr'] not in d:\n",
    "            d[person['real_attr']]=1\n",
    "        else:\n",
    "            d[person['real_attr']]+=1\n",
    "    for attr in d:\n",
    "        d[attr] = d[attr]/len(p)\n",
    "    return d"
   ]
  },
  {
   "cell_type": "code",
   "execution_count": 9,
   "metadata": {},
   "outputs": [],
   "source": [
    "def getdist_mispredicted(p):  \n",
    "    # Given a list, return the protected attr dist as a dictionary \n",
    "    d = {}\n",
    "    for person in p:\n",
    "        if person['attr'] not in d:\n",
    "            d[person['attr']]=1\n",
    "        else:\n",
    "            d[person['attr']]+=1\n",
    "    for attr in d:\n",
    "        d[attr] = d[attr]/len(p)\n",
    "    return d"
   ]
  },
  {
   "cell_type": "code",
   "execution_count": 10,
   "metadata": {},
   "outputs": [],
   "source": [
    "def getskews(rankedlist,prob):\n",
    "    skew_dic = {}\n",
    "    atts = set([])\n",
    "    for item in rankedlist:\n",
    "        atts.add(item['real_attr'])# attr\n",
    "    \n",
    "    for attr in atts:\n",
    "        skew_dic[attr] = skewk(rankedlist,prob,attr,len(rankedlist))\n",
    "\n",
    "    return skew_dic\n",
    "    \n",
    "def get_score(rankedlist): \n",
    "    score_dic = {}\n",
    "    for item in rankedlist:\n",
    "\n",
    "        if item['real_attr']+'_list' not in score_dic:\n",
    "            score_dic[item['real_attr']+'_list'] = []\n",
    "        score_dic[item['real_attr']+'_list'].append(item['score'])\n",
    "        \n",
    "    score_dic2 = {}\n",
    "        \n",
    "    for attl in score_dic:\n",
    "        attr = attl[:-5]\n",
    "        score_dic2[attr] = np.mean(score_dic[attl])\n",
    "    \n",
    "    return score_dic2\n",
    "\n",
    "\n",
    "def get_attention(rankedlist, dist = 'log', p = -1):\n",
    "    sns.set(font_scale=1.5)\n",
    "    base_attention = 100\n",
    "    i = 1\n",
    "    att_dic = {}\n",
    "    for item in rankedlist:\n",
    "        if dist == 'log':\n",
    "            attention = base_attention/math.log2(i+1)\n",
    "        elif dist == 'geometric':\n",
    "            if p== -1:\n",
    "                print('Error, set p = fraction of attention for the first result')\n",
    "                return\n",
    "            else:\n",
    "                attention = base_attention*((1 - p)**(i-1))*p\n",
    "        else:\n",
    "            print('Error, dist must be log or geometric')\n",
    "\n",
    "        if item['real_attr']+'_list'  not in att_dic:\n",
    "            att_dic[item['real_attr']+'_list'] = []\n",
    "        att_dic[item['real_attr']+'_list'].append(attention)\n",
    "        i+=1\n",
    "    \n",
    "    \n",
    "    att_dic2 = {}                                      \n",
    "   \n",
    "    for attl in att_dic:\n",
    "        attr = attl[:-5]\n",
    "        if dist == 'geometric':\n",
    "            att_dic2[attr] = np.mean(att_dic[attl])\n",
    "        else:\n",
    "            att_dic2[attr] = np.mean(att_dic[attl])\n",
    "    \n",
    "    return att_dic2\n",
    "\n",
    "def get_attention_list(rankedlist, dist = 'log', p = -1):\n",
    "    sns.set(font_scale=1.5)\n",
    "    base_attention = 100\n",
    "    i = 1\n",
    "    att_dic = {}\n",
    "    for item in rankedlist:\n",
    "        if dist == 'log':\n",
    "            attention = base_attention/math.log2(i+1)\n",
    "        elif dist == 'geometric':\n",
    "            if p== -1:\n",
    "                print('Error, set p = fraction of attention for the first result')\n",
    "                return\n",
    "            else:\n",
    "                attention = base_attention*((1 - p)**(i-1))*p\n",
    "        else:\n",
    "            print('Error, dist must be log or geometric')\n",
    "\n",
    "        if item['real_attr']  not in att_dic:\n",
    "            att_dic[item['real_attr']] = []\n",
    "        att_dic[item['real_attr']].append(attention)\n",
    "        i+=1\n",
    "    \n",
    "    return att_dic\n",
    "\n",
    "def get_rankdelta(rankedlist): \n",
    "    rankdelta_dic = {}\n",
    "    for item in rankedlist:\n",
    "\n",
    "        if item['real_attr']+'_list' not in rankdelta_dic:\n",
    "            rankdelta_dic[item['real_attr']+'_list'] = []\n",
    "        rankdelta_dic[item['real_attr']+'_list'].append(abs(item['real_rank']-item['rank']))\n",
    "        \n",
    "    rankdelta_dic2 = {}\n",
    "        \n",
    "    for attl in rankdelta_dic:\n",
    "        attr = attl[:-5]\n",
    "        rankdelta_dic2[attr] = np.mean(rankdelta_dic[attl])\n",
    "    \n",
    "    return rankdelta_dic2\n",
    "\n",
    "def get_rankdelta_list(rankedlist): \n",
    "    rankdelta_dic = {}\n",
    "    for item in rankedlist:\n",
    "\n",
    "        if item['real_attr'] not in rankdelta_dic:\n",
    "            rankdelta_dic[item['real_attr']] = []\n",
    "        rankdelta_dic[item['real_attr']].append(item['real_rank']-item['rank'])\n",
    "    \n",
    "    return rankdelta_dic"
   ]
  },
  {
   "cell_type": "markdown",
   "metadata": {},
   "source": [
    "# DetConsSorted Implementation"
   ]
  },
  {
   "cell_type": "code",
   "execution_count": 11,
   "metadata": {},
   "outputs": [],
   "source": [
    "from collections import defaultdict as ddict\n",
    "import operator\n",
    "\n",
    "\n",
    "def swap(temp_list, pos_i, pos_j):\n",
    "    temp = temp_list[pos_i]\n",
    "    temp_list[pos_i] = temp_list[pos_j]\n",
    "    temp_list[pos_j] = temp\n",
    "\n",
    "def det_const_sort(score_dict, prob, kmax):\n",
    "    \n",
    "    scoreList             = [(elem['attr'], elem['score'], elem['real_attr'],elem['rank'],elem['real_rank']) for elem in score_dict]\n",
    "    AttrList              = list(set([elem[0] for elem in scoreList]))\n",
    "    AttrScores            = {}\n",
    "    AttrCount             = {}\n",
    "    minAttrCount          = {}\n",
    "    GlobalAttrCounts      = {}\n",
    "    rankedAttrList        = {} #[]\n",
    "    rankedScoreList       = {} #[]\n",
    "    maxIndices            = {} #[]\n",
    "    lastEmpty             =  0\n",
    "    k                     =  0\n",
    "    \n",
    "    for i, attr in enumerate(AttrList):\n",
    "        AttrCount[attr]        = 0\n",
    "        minAttrCount[attr]     = 0\n",
    "        GlobalAttrCounts[attr] = sum([1 for elem in scoreList if elem[0]==attr])\n",
    "        AttrScores[attr]       = [(elem[1],elem[2],elem[3],elem[4]) for elem in scoreList if elem[0]==attr] # to be initialized \n",
    "        \n",
    "    while lastEmpty       <= kmax:        \n",
    "        \n",
    "        if lastEmpty == len(scoreList):\n",
    "            break\n",
    "        \n",
    "        k+=1\n",
    "        tempMinAttrCount  = ddict(int)\n",
    "        changedMins       = {}\n",
    "        for attr in AttrList:\n",
    "            tempMinAttrCount[attr] = math.floor(k*prob[attr])\n",
    "            if minAttrCount[attr] < tempMinAttrCount[attr] and minAttrCount[attr] < GlobalAttrCounts[attr]:\n",
    "                changedMins[attr]  = AttrScores[attr][AttrCount[attr]]\n",
    "                    \n",
    "        if len(changedMins) !=0:\n",
    "            ordChangedMins  = sorted(changedMins.items(), key= lambda x: x[1][0], reverse= True)\n",
    "            for elem in ordChangedMins:\n",
    "                rankedAttrList[lastEmpty] = elem[0]\n",
    "                rankedScoreList[lastEmpty]= AttrScores[elem[0]][AttrCount[elem[0]]] # (score, real_attr)\n",
    "                maxIndices[lastEmpty]     = k\n",
    "                start                     = lastEmpty\n",
    "                while start > 0 and maxIndices[start-1] >= start and rankedScoreList[start-1][0]< rankedScoreList[start][0]:                \n",
    "                    swap(rankedScoreList, start-1, start)\n",
    "                    swap(maxIndices, start-1, start)\n",
    "                    swap(rankedAttrList, start-1, start)\n",
    "                    start -= 1\n",
    "                AttrCount[elem[0]]+=1\n",
    "                lastEmpty+=1\n",
    "            minAttrCount= dict(tempMinAttrCount)\n",
    "        \n",
    "    \n",
    "    newRankList = []\n",
    "    \n",
    "    rankedAttrArr  = [rankedAttrList[i] for i in sorted(rankedAttrList)]\n",
    "    rankedScoreArr = [rankedScoreList[i] for i in sorted(rankedScoreList)]\n",
    "    k = 1\n",
    "    for attr, score in zip(rankedAttrArr, rankedScoreArr ):\n",
    "        newRankList.append({'attr':attr, 'score':score[0], 'real_attr': score[1],'rank':k, 'real_rank': score[3]})\n",
    "        k+=1\n",
    "        \n",
    "    return newRankList"
   ]
  },
  {
   "cell_type": "markdown",
   "metadata": {},
   "source": [
    "# Simulate"
   ]
  },
  {
   "cell_type": "code",
   "execution_count": 12,
   "metadata": {},
   "outputs": [],
   "source": [
    "def genprob(attrlist):\n",
    "    prob = {}\n",
    "    s = 0\n",
    "    for attr in attrlist:\n",
    "        p = np.random.uniform(0,1)\n",
    "        s+=p\n",
    "        prob[attr]=p\n",
    "    for attr in attrlist:\n",
    "        prob[attr]/=s\n",
    "    return prob"
   ]
  },
  {
   "cell_type": "code",
   "execution_count": 13,
   "metadata": {},
   "outputs": [],
   "source": [
    "def getcandidates(prob):\n",
    "    elements = list(prob.keys())\n",
    "    candidates = []\n",
    "    for e in elements:\n",
    "        for n in range(1000):#(int(k/len(elements))):\n",
    "            candidates.append(e)\n",
    "    clist = []\n",
    "    idn = 1\n",
    "    for c in candidates:\n",
    "        cand = {}\n",
    "        cand['id']= str(idn)\n",
    "        idn+=1\n",
    "        cand['attr']= c\n",
    "        cand['real_attr']= c\n",
    "        cand['score']=np.random.uniform(0,1)\n",
    "        clist.append(cand)\n",
    "    clist.sort(key = lambda i: i['score'],reverse=True)\n",
    "    idn = 1\n",
    "    for c in clist:\n",
    "        c['rank'] = idn\n",
    "        c['real_rank'] = idn\n",
    "    return clist"
   ]
  },
  {
   "cell_type": "code",
   "execution_count": 14,
   "metadata": {},
   "outputs": [],
   "source": [
    "def randomize(oglist, acc):\n",
    "    attrs = set([i['real_attr'] for i in oglist])\n",
    "    newlist = []\n",
    "    for item in oglist:\n",
    "        if random.random() < acc: #True\n",
    "            item['attr']=item['real_attr']\n",
    "        else:\n",
    "            item['attr']=random.choice(list(attrs - set(item['real_attr'])))\n",
    "        newlist.append(item)\n",
    "    return newlist"
   ]
  },
  {
   "cell_type": "code",
   "execution_count": 15,
   "metadata": {},
   "outputs": [],
   "source": [
    "def simulate_err(prob):\n",
    "\n",
    "    dlist = []\n",
    "    \n",
    "    print('Distribution: ', prob,'\\n')\n",
    "    score_dict = getcandidates(prob)\n",
    "\n",
    "    k = 300\n",
    "\n",
    "    print('Simulating original protected categories')\n",
    "\n",
    "    vanilla_NDKL = []\n",
    "    algo_NDKL = []\n",
    "    vanilla_attention = []\n",
    "    algo_attention = []\n",
    "    vanilla_NDCG = []\n",
    "    algo_NDCG = []\n",
    "\n",
    "\n",
    "\n",
    "\n",
    "    for acc in [0.1,0.2,0.3,0.4,0.5,0.6,0.7,0.8,0.9,1.0]:\n",
    "\n",
    "        print('Simulating accuracy: ', acc)\n",
    "\n",
    "\n",
    "        vanilla_NDKL = []\n",
    "        algo_NDKL = []\n",
    "        vanilla_attention = []\n",
    "        algo_attention = []\n",
    "        vanilla_NDCG = []\n",
    "        algo_NDCG = []\n",
    "        vanilla_rankdelta = []\n",
    "        algo_rankdelta = []\n",
    "\n",
    "        for i in range(100):\n",
    "            global seedcount\n",
    "            seed_everything(seedcount)\n",
    "            seedcount+=1\n",
    "\n",
    "            score_dict_rand = randomize(score_dict,acc)\n",
    "\n",
    "            vanilla_NDKL.append(NDKL(score_dict_rand[:k],prob))\n",
    "            vanilla_NDCG.append(NDCG(score_dict_rand[:k],k))\n",
    "            a = det_const_sort(score_dict_rand,prob,k)\n",
    "            \n",
    "            algo_NDKL.append(NDKL(a,prob))\n",
    "            algo_NDCG.append(NDCG(a,k))\n",
    "            vattd = get_attention(score_dict_rand[:k],dist = 'geometric',p=0.015)\n",
    "            vanilla_attention.append(min(vattd.values())/max(vattd.values()))\n",
    "            vscore = get_score(score_dict_rand[:k])\n",
    "\n",
    "            aattd = get_attention(a,dist = 'geometric',p=0.015)\n",
    "            algo_attention.append(min(aattd.values())/max(aattd.values()))\n",
    "            \n",
    "            rankdelta = get_rankdelta(score_dict_rand[:k])\n",
    "            algo_rankdelta_d = get_rankdelta(a)\n",
    "            #print(algo_rankdelta_d)\n",
    "            vanilla_rankdelta.append(abs(max(rankdelta.values(),key=abs)))\n",
    "            algo_rankdelta.append(abs(max(algo_rankdelta_d.values(),key=abs)))\n",
    "#             vanilla_rankdelta.append(np.mean(list(rankdelta.values())))\n",
    "#             algo_rankdelta.append(np.mean(list(algo_rankdelta_d.values())))\n",
    "\n",
    "\n",
    "\n",
    "\n",
    "\n",
    "\n",
    "\n",
    "        dlist.append([acc,np.mean(vanilla_NDKL), np.mean(algo_NDKL), np.mean(vanilla_attention)\n",
    "                     , np.mean(algo_attention),np.mean(vanilla_NDCG), np.mean(algo_NDCG), \n",
    "                      np.mean(vanilla_rankdelta), np.mean(algo_rankdelta)])\n",
    "                         \n",
    "\n",
    "    \n",
    "    \n",
    "    df = pd.DataFrame(dlist, columns = ['Accuracy','Vanilla_NDKL','Algo_NDKL', 'Vanilla_attention_biasratio',\n",
    "                                       'Algo_attention_biasratio','Vanilla_NDCG','Algo_NDCG',\n",
    "                                        'Vanilla_rankdelta','Algo_rankdelta'])\n",
    "\n",
    "    print('\\n\\nmean over 100 simulations')\n",
    "\n",
    "    return df"
   ]
  },
  {
   "cell_type": "code",
   "execution_count": 16,
   "metadata": {},
   "outputs": [],
   "source": [
    "def show(df):\n",
    "    cols = ['Accuracy',\n",
    "     'Algo_NDKL',\n",
    "     'Algo_attention_biasratio',\n",
    "     'Algo_NDCG',\n",
    "     'Algo_rankdelta']\n",
    "\n",
    "    display(df[cols])"
   ]
  },
  {
   "cell_type": "markdown",
   "metadata": {},
   "source": [
    "# Accuracy vs Fairness - synthetic data"
   ]
  },
  {
   "cell_type": "code",
   "execution_count": 17,
   "metadata": {},
   "outputs": [
    {
     "name": "stdout",
     "output_type": "stream",
     "text": [
      "Distribution:  {'White': 0.33, 'Black': 0.33, 'Asian': 0.33} \n",
      "\n",
      "Simulating original protected categories\n",
      "Simulating accuracy:  0.1\n",
      "Simulating accuracy:  0.2\n",
      "Simulating accuracy:  0.3\n",
      "Simulating accuracy:  0.4\n",
      "Simulating accuracy:  0.5\n",
      "Simulating accuracy:  0.6\n",
      "Simulating accuracy:  0.7\n",
      "Simulating accuracy:  0.8\n",
      "Simulating accuracy:  0.9\n",
      "Simulating accuracy:  1.0\n",
      "\n",
      "\n",
      "mean over 100 simulations\n",
      "Vanilla_NDKL 0.08010918004971064\n",
      "Vanilla_attention_biasratio 0.6586181472461774\n",
      "Vanilla_NDCG 1.0\n",
      "Vanilla_rankdelta 0.0\n"
     ]
    }
   ],
   "source": [
    "dfA = simulate_err({\"White\":0.33,\"Black\":0.33,\"Asian\":0.33})\n",
    "row1 = dfA.to_dict(orient='index')\n",
    "for i in row1[0]:\n",
    "    if 'Vanilla' in i:\n",
    "        print(i,row1[0][i])"
   ]
  },
  {
   "cell_type": "code",
   "execution_count": 18,
   "metadata": {},
   "outputs": [
    {
     "name": "stdout",
     "output_type": "stream",
     "text": [
      "Distribution:  {'White': 0.2, 'Black': 0.3, 'Asian': 0.5} \n",
      "\n",
      "Simulating original protected categories\n",
      "Simulating accuracy:  0.1\n",
      "Simulating accuracy:  0.2\n",
      "Simulating accuracy:  0.3\n",
      "Simulating accuracy:  0.4\n",
      "Simulating accuracy:  0.5\n",
      "Simulating accuracy:  0.6\n",
      "Simulating accuracy:  0.7\n",
      "Simulating accuracy:  0.8\n",
      "Simulating accuracy:  0.9\n",
      "Simulating accuracy:  1.0\n",
      "\n",
      "\n",
      "mean over 100 simulations\n",
      "Vanilla_NDKL 0.07828989036085077\n",
      "Vanilla_attention_biasratio 0.7063573871385782\n",
      "Vanilla_NDCG 1.0\n",
      "Vanilla_rankdelta 0.0\n"
     ]
    }
   ],
   "source": [
    "dfB = simulate_err({\"White\":0.2,\"Black\":0.3,\"Asian\":0.5})\n",
    "row1 = dfB.to_dict(orient='index')\n",
    "for i in row1[0]:\n",
    "    if 'Vanilla' in i:\n",
    "        print(i,row1[0][i])"
   ]
  },
  {
   "cell_type": "code",
   "execution_count": 19,
   "metadata": {},
   "outputs": [
    {
     "name": "stdout",
     "output_type": "stream",
     "text": [
      "Distribution:  {'White': 0.1, 'Black': 0.3, 'Asian': 0.6} \n",
      "\n",
      "Simulating original protected categories\n",
      "Simulating accuracy:  0.1\n",
      "Simulating accuracy:  0.2\n",
      "Simulating accuracy:  0.3\n",
      "Simulating accuracy:  0.4\n",
      "Simulating accuracy:  0.5\n",
      "Simulating accuracy:  0.6\n",
      "Simulating accuracy:  0.7\n",
      "Simulating accuracy:  0.8\n",
      "Simulating accuracy:  0.9\n",
      "Simulating accuracy:  1.0\n",
      "\n",
      "\n",
      "mean over 100 simulations\n",
      "Vanilla_NDKL 0.29703865101624605\n",
      "Vanilla_attention_biasratio 0.8590583625331425\n",
      "Vanilla_NDCG 1.0\n",
      "Vanilla_rankdelta 0.0\n"
     ]
    }
   ],
   "source": [
    "dfC = simulate_err({\"White\":0.1,\"Black\":0.3,\"Asian\":0.6})\n",
    "row1 = dfC.to_dict(orient='index')\n",
    "for i in row1[0]:\n",
    "    if 'Vanilla' in i:\n",
    "        print(i,row1[0][i])"
   ]
  },
  {
   "cell_type": "code",
   "execution_count": 20,
   "metadata": {},
   "outputs": [
    {
     "name": "stdout",
     "output_type": "stream",
     "text": [
      "Distribution:  {'White': 0.1, 'Black': 0.2, 'Asian': 0.7} \n",
      "\n",
      "Simulating original protected categories\n",
      "Simulating accuracy:  0.1\n",
      "Simulating accuracy:  0.2\n",
      "Simulating accuracy:  0.3\n",
      "Simulating accuracy:  0.4\n",
      "Simulating accuracy:  0.5\n",
      "Simulating accuracy:  0.6\n",
      "Simulating accuracy:  0.7\n",
      "Simulating accuracy:  0.8\n",
      "Simulating accuracy:  0.9\n",
      "Simulating accuracy:  1.0\n",
      "\n",
      "\n",
      "mean over 100 simulations\n",
      "Vanilla_NDKL 0.3716861696312187\n",
      "Vanilla_attention_biasratio 0.9080853755915664\n",
      "Vanilla_NDCG 1.0\n",
      "Vanilla_rankdelta 0.0\n"
     ]
    }
   ],
   "source": [
    "dfD = simulate_err({\"White\":0.1,\"Black\":0.2,\"Asian\":0.7})\n",
    "row1 = dfD.to_dict(orient='index')\n",
    "for i in row1[0]:\n",
    "    if 'Vanilla' in i:\n",
    "        print(i,row1[0][i])"
   ]
  },
  {
   "cell_type": "code",
   "execution_count": 21,
   "metadata": {},
   "outputs": [
    {
     "name": "stdout",
     "output_type": "stream",
     "text": [
      "Distribution:  {'White': 0.25, 'Black': 0.25, 'Asian': 0.25, 'Latino': 0.25} \n",
      "\n",
      "Simulating original protected categories\n",
      "Simulating accuracy:  0.1\n",
      "Simulating accuracy:  0.2\n",
      "Simulating accuracy:  0.3\n",
      "Simulating accuracy:  0.4\n",
      "Simulating accuracy:  0.5\n",
      "Simulating accuracy:  0.6\n",
      "Simulating accuracy:  0.7\n",
      "Simulating accuracy:  0.8\n",
      "Simulating accuracy:  0.9\n",
      "Simulating accuracy:  1.0\n",
      "\n",
      "\n",
      "mean over 100 simulations\n",
      "Vanilla_NDKL 0.10451577831466925\n",
      "Vanilla_attention_biasratio 0.599433925849153\n",
      "Vanilla_NDCG 1.0\n",
      "Vanilla_rankdelta 0.0\n"
     ]
    }
   ],
   "source": [
    "dfE = simulate_err({\"White\":0.25,\"Black\":0.25,\"Asian\":0.25, \"Latino\":0.25})\n",
    "row1 = dfE.to_dict(orient='index')\n",
    "for i in row1[0]:\n",
    "    if 'Vanilla' in i:\n",
    "        print(i,row1[0][i])"
   ]
  },
  {
   "cell_type": "code",
   "execution_count": 22,
   "metadata": {},
   "outputs": [
    {
     "name": "stdout",
     "output_type": "stream",
     "text": [
      "Distribution:  {'White': 0.1, 'Black': 0.2, 'Asian': 0.6, 'Latino': 0.1} \n",
      "\n",
      "Simulating original protected categories\n",
      "Simulating accuracy:  0.1\n",
      "Simulating accuracy:  0.2\n",
      "Simulating accuracy:  0.3\n",
      "Simulating accuracy:  0.4\n",
      "Simulating accuracy:  0.5\n",
      "Simulating accuracy:  0.6\n",
      "Simulating accuracy:  0.7\n",
      "Simulating accuracy:  0.8\n",
      "Simulating accuracy:  0.9\n",
      "Simulating accuracy:  1.0\n",
      "\n",
      "\n",
      "mean over 100 simulations\n",
      "Vanilla_NDKL 0.40109149139679945\n",
      "Vanilla_attention_biasratio 0.7141633677433548\n",
      "Vanilla_NDCG 1.0\n",
      "Vanilla_rankdelta 0.0\n"
     ]
    }
   ],
   "source": [
    "dfF = simulate_err({\"White\":0.1,\"Black\":0.2,\"Asian\":0.6, \"Latino\":0.1})\n",
    "row1 = dfF.to_dict(orient='index')\n",
    "for i in row1[0]:\n",
    "    if 'Vanilla' in i:\n",
    "        print(i,row1[0][i])"
   ]
  },
  {
   "cell_type": "markdown",
   "metadata": {},
   "source": [
    "# Plot"
   ]
  },
  {
   "cell_type": "code",
   "execution_count": 23,
   "metadata": {},
   "outputs": [],
   "source": [
    "def forceAspect(ax,aspect=1):\n",
    "    im = ax.get_images()\n",
    "    extent =  im[0].get_extent()\n",
    "    ax.set_aspect(abs((extent[1]-extent[0])/(extent[3]-extent[2]))/aspect)"
   ]
  },
  {
   "cell_type": "code",
   "execution_count": 24,
   "metadata": {},
   "outputs": [],
   "source": [
    "color_list = ['red','orange','burlywood', 'blue', 'deepskyblue', 'forestgreen', 'mediumseagreen', 'deeppink','orchid']"
   ]
  },
  {
   "cell_type": "code",
   "execution_count": 98,
   "metadata": {},
   "outputs": [],
   "source": [
    "def simplot(colname,label,filename,onlylegend = False):\n",
    "    toplot = colname\n",
    "    cols = ['Accuracy',\n",
    "     'Algo_NDKL',\n",
    "     'Algo_attention_biasratio',\n",
    "     'Algo_NDCG',\n",
    "     'Algo_rankdelta']\n",
    "\n",
    "    plt.rcParams['axes.edgecolor'] = \"#cccccc\"\n",
    "    if onlylegend==False:\n",
    "        if 'ndcg' in filename:\n",
    "            plt.rcParams[\"figure.figsize\"] = (6/1.1,5.8/1.1)\n",
    "        else:\n",
    "            plt.rcParams[\"figure.figsize\"] = (6,5)\n",
    "            \n",
    "    plt.rcParams[\"font.family\"] = 'DejaVu Serif'\n",
    "    plt.rcParams['axes.grid'] = True\n",
    "    plt.rcParams['grid.alpha'] = 1\n",
    "    plt.rcParams['grid.color'] = \"#cccccc\"\n",
    "    plt.rcParams[\"pdf.fonttype\"] = 42\n",
    "    plt.rcParams[\"ps.fonttype\"] = 42\n",
    "\n",
    "    ax = dfA[cols].plot(x='Accuracy',y=toplot,color=color_list[1],marker='o')\n",
    "\n",
    "    ax.xaxis.grid(True,which='both')\n",
    "    ax.yaxis.grid(True,which='both')\n",
    "    # ax.xaxis.set_label_position('top')\n",
    "    # ax.xaxis.tick_top()\n",
    "\n",
    "\n",
    "    ax.set_facecolor('white')\n",
    "    ax.tick_params(axis='y', which='both',labelsize=16)\n",
    "    ax.tick_params(axis='x', which='both',labelsize=16)\n",
    "    ax.xaxis.set_minor_formatter(ScalarFormatter())\n",
    "    ax.xaxis.set_major_formatter(ScalarFormatter())\n",
    "    #ax.yaxis.set_minor_formatter(ScalarFormatter())\n",
    "    #ax.yaxis.set_major_formatter(ScalarFormatter())\n",
    "    ax.yaxis.set_major_formatter(ticker.FormatStrFormatter('%0.4f'))\n",
    "    ax.yaxis.set_minor_formatter(ticker.FormatStrFormatter('%0.4f'))\n",
    "\n",
    "    dfB[cols].plot(x='Accuracy',y=toplot, ax = ax,color=color_list[4],marker='*')\n",
    "    dfC[cols].plot(x='Accuracy',y=toplot, ax = ax,color=color_list[6],marker='+')\n",
    "    dfD[cols].plot(x='Accuracy',y=toplot, ax = ax,color=color_list[8],marker='^')\n",
    "    dfE[cols].plot(x='Accuracy',y=toplot, ax = ax,color=color_list[3],marker='<')\n",
    "    dfF[cols].plot(x='Accuracy',y=toplot, ax = ax,color=color_list[0],marker='>')\n",
    "\n",
    "\n",
    "    plt.ylabel(label,fontsize=20,weight='bold')\n",
    "    plt.xlabel('Accuracy', fontsize =20,weight='bold')\n",
    "\n",
    "    plt.xticks(np.arange(0, 1.2, 0.2))\n",
    "\n",
    "\n",
    "    ax.get_legend().remove()\n",
    "    \n",
    "    if onlylegend:\n",
    "        handles, l = ax.get_legend_handles_labels()\n",
    "        labels = ['Dist. A', 'Dist. B', 'Dist. C', 'Dist. D', 'Dist. E','Dist. F']\n",
    "        ax.clear()\n",
    "        plt.clf()\n",
    "        plt.cla()\n",
    "        plt.close()\n",
    "\n",
    "        legend = plt.legend(handles, labels, loc=3, framealpha=1, \n",
    "                            frameon=True,ncol=len(handles),facecolor='white', prop = {'weight':'bold', 'size': 20})\n",
    "        plt.gca().set_axis_off()\n",
    "        plt.gca().set_facecolor('white')\n",
    "        \n",
    "        plt.subplots_adjust(top = 1, bottom = 0, right = 1, left = 0, \n",
    "            hspace = 0, wspace = 0)\n",
    "        plt.margins(0,0)\n",
    "        plt.gca().xaxis.set_major_locator(plt.NullLocator())\n",
    "        plt.gca().yaxis.set_major_locator(plt.NullLocator())\n",
    "\n",
    "\n",
    "        def export_legend(legend, filename=filename, expand=[-5,-5,5,5]):\n",
    "            fig  = legend.figure\n",
    "            fig.canvas.draw()\n",
    "            plt.tight_layout()\n",
    "            bbox  = legend.get_window_extent()\n",
    "            bbox = bbox.from_extents(*(bbox.extents + np.array(expand)))\n",
    "            bbox = bbox.transformed(fig.dpi_scale_trans.inverted())\n",
    "            plt.savefig('Plots/'+filename, bbox_inches = \"tight\",pad_inches = 0)\n",
    "\n",
    "        export_legend(legend)\n",
    "        #plt.show()\n",
    "\n",
    "    plt.savefig('Plots/'+filename, pad_inches = 0,bbox_inches = \"tight\")"
   ]
  },
  {
   "cell_type": "code",
   "execution_count": 80,
   "metadata": {},
   "outputs": [
    {
     "data": {
      "image/png": "[encoded data removed]",
      "text/plain": [
       "<Figure size 324x360 with 1 Axes>"
      ]
     },
     "metadata": {},
     "output_type": "display_data"
    }
   ],
   "source": [
    "simplot('Algo_NDKL','NDKL','simulation_ndkl.pdf')"
   ]
  },
  {
   "cell_type": "code",
   "execution_count": 63,
   "metadata": {},
   "outputs": [
    {
     "data": {
      "image/png": "[encoded data removed]",
      "text/plain": [
       "<Figure size 396x360 with 1 Axes>"
      ]
     },
     "metadata": {},
     "output_type": "display_data"
    }
   ],
   "source": [
    "simplot('Algo_attention_biasratio','ABR','simulation_abr.pdf')"
   ]
  },
  {
   "cell_type": "code",
   "execution_count": 99,
   "metadata": {},
   "outputs": [
    {
     "data": {
      "image/png": "[encoded data removed]",
      "text/plain": [
       "<Figure size 392.727x379.636 with 1 Axes>"
      ]
     },
     "metadata": {},
     "output_type": "display_data"
    }
   ],
   "source": [
    "simplot('Algo_NDCG','NDCG','simulation_ndcg.pdf')"
   ]
  },
  {
   "cell_type": "code",
   "execution_count": 67,
   "metadata": {},
   "outputs": [
    {
     "data": {
      "image/png": "[encoded data removed]",
      "text/plain": [
       "<Figure size 396x360 with 1 Axes>"
      ]
     },
     "metadata": {},
     "output_type": "display_data"
    }
   ],
   "source": [
    "simplot('Algo_rankdelta','MARC','simulation_rankdelta.pdf')"
   ]
  },
  {
   "cell_type": "code",
   "execution_count": 52,
   "metadata": {},
   "outputs": [
    {
     "name": "stderr",
     "output_type": "stream",
     "text": [
      "/home/avijit/anaconda3/envs/py37/lib/python3.7/site-packages/ipykernel_launcher.py:79: UserWarning: Tight layout not applied. The left and right margins cannot be made large enough to accommodate all axes decorations. \n"
     ]
    },
    {
     "data": {
      "image/png": "[encoded data removed]",
      "text/plain": [
       "<Figure size 396x360 with 1 Axes>"
      ]
     },
     "metadata": {},
     "output_type": "display_data"
    }
   ],
   "source": [
    "simplot('Algo_rankdelta','Max. Absolute Rank Change','simulation_legend.pdf',onlylegend=True)"
   ]
  },
  {
   "cell_type": "markdown",
   "metadata": {},
   "source": [
    "# Case studies"
   ]
  },
  {
   "cell_type": "code",
   "execution_count": null,
   "metadata": {},
   "outputs": [],
   "source": [
    "def smallplot(LL,color,filename):\n",
    "    plt.rcParams['axes.grid'] = True\n",
    "    plt.rcParams['grid.alpha'] = 1\n",
    "    plt.rcParams['grid.color'] = \"#cccccc\"\n",
    "    plt.rcParams['axes.edgecolor'] = \"#cccccc\"\n",
    "    plt.rcParams[\"figure.figsize\"] = (4.5,2.25)\n",
    "    plt.rcParams[\"font.family\"] = 'DejaVu Serif'\n",
    "    plt.rcParams[\"pdf.fonttype\"] = 42\n",
    "    plt.rcParams[\"ps.fonttype\"] = 42\n",
    "\n",
    "\n",
    "    plt.bar(LL.keys(), LL.values(),color=color,width = 0.4)\n",
    "    ax = plt.gca()\n",
    "    ax.set_facecolor('white')\n",
    "    # ax.get_legend().remove()\n",
    "    ax.xaxis.grid(False)\n",
    "    ax.yaxis.grid(True,which='both')\n",
    "    if 'NDCG' in filename:\n",
    "        ax.set_ylim([min(LL.values())-0.005,1.0])\n",
    "    ax.tick_params(axis='y', which='both',labelsize=22)\n",
    "    ax.tick_params(axis='x', which='both',labelsize=24)\n",
    "    \n",
    "    if 'rank' in filename:\n",
    "        ax.yaxis.set_major_formatter(ticker.FormatStrFormatter('%0.0f'))\n",
    "        ax.yaxis.set_minor_formatter(ticker.FormatStrFormatter('%0.0f'))\n",
    "    else:\n",
    "        ax.yaxis.set_major_formatter(ticker.FormatStrFormatter('%0.2f'))\n",
    "        ax.yaxis.set_minor_formatter(ticker.FormatStrFormatter('%0.2f'))\n",
    "    if 'NDCG' in filename:\n",
    "        pass\n",
    "#         plt.yticks(np.arange(0, max(LL.values()), (max(LL.values()) - 0)/4))\n",
    "#         plt.yticks(np.arange(min(LL.values()), max(LL.values()), (max(LL.values()) - min(LL.values()))/4))\n",
    "    else:\n",
    "        plt.yticks(np.arange(0, max(LL.values()), (max(LL.values()) - 0)/4))\n",
    "\n",
    "\n",
    "    plt.xlabel(None)\n",
    "    \n",
    "    plt.xticks(rotation=90,weight='bold')\n",
    "    for spine in ('top', 'right'): # 'bottom', 'left'): \n",
    "        ax.spines[spine].set_visible(False)\n",
    "\n",
    "    plt.savefig('Plots/'+filename, bbox_inches = 'tight')\n",
    "\n",
    "    #print((pd.DataFrame([LL]).T).to_latex())"
   ]
  },
  {
   "cell_type": "code",
   "execution_count": null,
   "metadata": {},
   "outputs": [],
   "source": [
    "cats = ['White_Male', 'White_Female', 'Black_Male', 'Black_Female', 'Hispanic_Male', 'Hispanic_Female', 'Asian_Male', 'Asian_Female']\n",
    "color_list = ['orange','burlywood', 'blue', 'deepskyblue', 'forestgreen', 'mediumseagreen', 'deeppink','orchid']\n",
    "d2c = dict(zip(cats, color_list))\n",
    "map(d2c.get,sorted(list(['White_Male', 'White_Female', 'Black_Male'])))"
   ]
  },
  {
   "cell_type": "code",
   "execution_count": null,
   "metadata": {},
   "outputs": [],
   "source": [
    "def largeplot(LL,label,filename):\n",
    "    cats = ['White_Male', 'White_Female', 'Black_Male', 'Black_Female', 'Hispanic_Male', 'Hispanic_Female', 'Asian_Male', 'Asian_Female']\n",
    "    color_list = ['orange','burlywood', 'blue', 'deepskyblue', 'forestgreen', 'mediumseagreen', 'deeppink','orchid']\n",
    "    d2c = dict(zip(cats, color_list))\n",
    "    \n",
    "    df = pd.DataFrame(LL)\n",
    "    df.columns = method_names\n",
    "\n",
    "    dft = df.T\n",
    "    dftcol = dft.columns\n",
    "\n",
    "    dft['X'] = dft.index\n",
    "\n",
    "    plt.rcParams['axes.grid'] = True\n",
    "    plt.rcParams['grid.alpha'] = 1\n",
    "    plt.rcParams['grid.color'] = \"#cccccc\"\n",
    "    plt.rcParams['axes.edgecolor'] = \"#cccccc\"\n",
    "    plt.rcParams[\"figure.figsize\"] = (6,4)\n",
    "    plt.rcParams[\"font.family\"] = 'DejaVu Serif'\n",
    "    plt.rcParams[\"pdf.fonttype\"] = 42\n",
    "    plt.rcParams[\"ps.fonttype\"] = 42\n",
    "\n",
    "    #plt.grid(True)\n",
    "    width = 0.85\n",
    "    if 'eq' in filename:\n",
    "        width = 0.7\n",
    "\n",
    "    ax = dft.plot(x=\"X\", y=sorted(list(dftcol)),width = width, edgecolor='black',\n",
    "                  linewidth=0.5,kind=\"bar\",color=[d2c.get(cl) for cl in sorted(list(dftcol))])\n",
    "    ax.set_facecolor('white')\n",
    "    ax.get_legend().remove()\n",
    "    ax.xaxis.grid(False)\n",
    "    ax.yaxis.grid(True,which='both')\n",
    "    ax.tick_params(axis='y', which='both',labelsize=13)\n",
    "    ax.tick_params(axis='x', which='both',labelsize=13)\n",
    "\n",
    "\n",
    "    #plt.legend(loc=(1.04,0))\n",
    "    plt.ylabel(label,size=13,weight='bold')\n",
    "    plt.xlabel(None)\n",
    "    plt.xticks(rotation=90,weight='bold')\n",
    "    for spine in ('top', 'right'): # 'bottom', 'left'): \n",
    "        plt.gca().spines[spine].set_visible(False)\n",
    "\n",
    "\n",
    "\n",
    "\n",
    "\n",
    "\n",
    "    # plt.ylabel(\"Population Skew\")\n",
    "    plt.savefig('Plots/'+filename, bbox_inches = 'tight')"
   ]
  },
  {
   "cell_type": "code",
   "execution_count": null,
   "metadata": {},
   "outputs": [],
   "source": [
    "def boxplot(LL,label,filename,log=False):\n",
    "    cats = ['White_Male', 'White_Female', 'Black_Male', 'Black_Female', 'Hispanic_Male', 'Hispanic_Female', 'Asian_Male', 'Asian_Female']\n",
    "    color_list = ['orange','burlywood', 'blue', 'deepskyblue', 'forestgreen', 'mediumseagreen', 'deeppink','orchid']\n",
    "    d2c = dict(zip(cats, color_list))\n",
    "    \n",
    "    dl = []\n",
    "    for c in LL:\n",
    "        for k in LL[c]:\n",
    "            for t in LL[c][k]:\n",
    "                dl.append({\"Algorithm\":c,\"Subgroup\":k,\"Measure\":t})\n",
    "\n",
    "    \n",
    "    \n",
    "    df = pd.DataFrame(dl)\n",
    "    dfcats = set(df.Subgroup)\n",
    "    \n",
    "\n",
    "\n",
    "    plt.rcParams['axes.grid'] = True\n",
    "    plt.rcParams['grid.alpha'] = 1\n",
    "    plt.rcParams['grid.color'] = \"#cccccc\"\n",
    "    plt.rcParams['axes.edgecolor'] = \"#cccccc\"\n",
    "    plt.rcParams[\"figure.figsize\"] = (6,4)\n",
    "    plt.rcParams[\"font.family\"] = 'DejaVu Serif'\n",
    "    plt.rcParams[\"pdf.fonttype\"] = 42\n",
    "    plt.rcParams[\"ps.fonttype\"] = 42\n",
    "\n",
    "    #plt.grid(True)\n",
    "    width = 0.85\n",
    "    if 'eq' in filename:\n",
    "        width = 0.7\n",
    "    \n",
    "    ax = sns.boxplot(y='Measure', \n",
    "                     x='Algorithm', \n",
    "                     data=df, \n",
    "                     hue='Subgroup',\n",
    "                     saturation=1,\n",
    "                     linewidth=0.7,\n",
    "                     width = width,\n",
    "                     showfliers=False,\n",
    "                     showmeans=True,\n",
    "                     meanprops={\"marker\":\"o\",\n",
    "                       \"markerfacecolor\":\"white\", \n",
    "                       \"markeredgecolor\":\"black\",\n",
    "                      \"markersize\":\"5\"},\n",
    "                     hue_order = sorted(list(dfcats)),\n",
    "                     palette=map(d2c.get,sorted(list(dfcats))))\n",
    "\n",
    "    ax.set_facecolor('white')\n",
    "    ax.get_legend().remove()\n",
    "    ax.xaxis.grid(False)\n",
    "    if log == True:\n",
    "        ax.set(yscale=\"symlog\")\n",
    "    ax.yaxis.grid(True,which='both')\n",
    "    ax.tick_params(axis='y', which='both',labelsize=13)\n",
    "    ax.tick_params(axis='x', which='both',labelsize=13)\n",
    "\n",
    "\n",
    "    #plt.legend(loc=(1.04,0))\n",
    "    plt.ylabel(label,size=13,weight='bold')\n",
    "    plt.xlabel(None)\n",
    "    plt.xticks(rotation=90,weight='bold')\n",
    "    for spine in ('top', 'right'): # 'bottom', 'left'): \n",
    "        plt.gca().spines[spine].set_visible(False)\n",
    "\n",
    "\n",
    "    # plt.ylabel(\"Population Skew\")\n",
    "    plt.savefig('Plots/'+filename, bbox_inches = 'tight')"
   ]
  },
  {
   "cell_type": "markdown",
   "metadata": {},
   "source": [
    "### nameprism utility"
   ]
  },
  {
   "cell_type": "code",
   "execution_count": null,
   "metadata": {},
   "outputs": [],
   "source": [
    "npdic = pickle.load(open('../chess_nameprism_pred.p','rb'))\n",
    "def getnameprismrace(name):\n",
    "    for item in npdic:\n",
    "        if item['name'].strip().lower() == name.strip().lower():\n",
    "            mx = 0\n",
    "            pr = \"\"\n",
    "            for i in item['pred_race']:\n",
    "                if item['pred_race'][i] > mx and i not in ['2PRACE','AIAN']:\n",
    "                    mx = item['pred_race'][i]\n",
    "                    pr = i\n",
    "            return pr\n",
    "    return \"err\""
   ]
  },
  {
   "cell_type": "code",
   "execution_count": null,
   "metadata": {},
   "outputs": [],
   "source": [
    "#npdic"
   ]
  },
  {
   "cell_type": "markdown",
   "metadata": {},
   "source": [
    "## Chess"
   ]
  },
  {
   "cell_type": "code",
   "execution_count": null,
   "metadata": {},
   "outputs": [],
   "source": [
    "K = 300"
   ]
  },
  {
   "cell_type": "code",
   "execution_count": null,
   "metadata": {},
   "outputs": [],
   "source": [
    "chessdf = pd.read_csv('CHESS/chessrankings.csv')"
   ]
  },
  {
   "cell_type": "code",
   "execution_count": null,
   "metadata": {},
   "outputs": [],
   "source": [
    "chesslist_base = []"
   ]
  },
  {
   "cell_type": "code",
   "execution_count": null,
   "metadata": {},
   "outputs": [],
   "source": [
    "chesslabels_maj = json.load(open('CHESS/chesslabels_majority.json'))"
   ]
  },
  {
   "cell_type": "code",
   "execution_count": null,
   "metadata": {},
   "outputs": [],
   "source": [
    "def getrace(fid):\n",
    "    if str(fid) not in chesslabels_maj:\n",
    "        return \"err\"\n",
    "    rc = chesslabels_maj[str(fid)]\n",
    "    if rc == 'White/Caucasian (Non hispanic)':\n",
    "        return 'White'\n",
    "    elif rc == 'Asian (Far East, Southeast Asia, and the Indian subcontinent)':\n",
    "        return 'Asian'\n",
    "    elif rc == 'Hispanic/Latino':\n",
    "        return 'Hispanic'\n",
    "    elif rc == 'Black/African':\n",
    "        return 'Black'\n",
    "    else:\n",
    "        return \"err\"\n",
    "    "
   ]
  },
  {
   "cell_type": "code",
   "execution_count": null,
   "metadata": {},
   "outputs": [],
   "source": [
    "chessdf['race'] = chessdf['fideid'].apply(getrace)\n",
    "chessdf = chessdf[chessdf['race']!='err']\n",
    "chessdf['Grp'] = chessdf['race'].astype(str)+'_'+chessdf['sex'].astype(str)\n",
    "tbr = []\n",
    "cnt = Counter(chessdf['Grp'])\n",
    "for g in cnt:\n",
    "#     if (1/K)/(cnt[g]/len(chessdf))>1.5:\n",
    "    if (cnt[g]/len(chessdf))<0.01:\n",
    "        tbr.append(g)\n",
    "print(tbr)\n",
    "chessdf = chessdf[~chessdf['Grp'].isin(tbr)]"
   ]
  },
  {
   "cell_type": "code",
   "execution_count": null,
   "metadata": {},
   "outputs": [],
   "source": [
    "chessrank_base = []\n",
    "for i,row in chessdf.iterrows():\n",
    "    g = \"\"\n",
    "    if row['sex']=='M':\n",
    "        g=\"Male\"\n",
    "    else:\n",
    "        g=\"Female\"\n",
    "    chessrank_base.append({'real_rank':i+1,'rank':i+1,'id':str(row['fideid']), 'attr':str(row['race'])+'_'+g,\n",
    "                           'real_attr':str(row['race'])+'_'+g, 'score':int(row['rating'])})"
   ]
  },
  {
   "cell_type": "code",
   "execution_count": null,
   "metadata": {},
   "outputs": [],
   "source": [
    "len(chessrank_base)"
   ]
  },
  {
   "cell_type": "code",
   "execution_count": null,
   "metadata": {},
   "outputs": [],
   "source": [
    "# Deepface\n",
    "\n",
    "chessrank_deepface = []\n",
    "temp = {}\n",
    "\n",
    "f = open('CHESS/deepface.txt')\n",
    "for line in f.readlines():\n",
    "    items = line.split(\"\\t\")\n",
    "    g = \"\"\n",
    "    if items[1]=='Man':\n",
    "        g = 'Male'\n",
    "    else:\n",
    "        g = 'Female'\n",
    "    r = items[2][:-1]\n",
    "    race = \"\"\n",
    "    if r == \"white\" or r == \"middle eastern\":\n",
    "        race = \"White\"\n",
    "    if r == \"latino hispanic\":\n",
    "        race = \"Hispanic\"\n",
    "    if r == \"asian\" or r==\"indian\":\n",
    "        race = \"Asian\"\n",
    "    if r == \"black\":\n",
    "        race = \"Black\"\n",
    "    ui = items[0].split('/')[-1][:-4]\n",
    "    temp[ui] = race+\"_\"+g\n",
    "f.close()\n",
    "\n",
    "for t in chessrank_base:\n",
    "    entry = t.copy()\n",
    "    if entry['id'] in temp:\n",
    "        entry['attr'] = temp[entry['id']]\n",
    "        chessrank_deepface.append(entry)"
   ]
  },
  {
   "cell_type": "code",
   "execution_count": null,
   "metadata": {},
   "outputs": [],
   "source": [
    "genderize = pd.read_csv('CHESS/genderize.csv')\n",
    "genderizedict = {}\n",
    "for i,j in zip(genderize.fideid,genderize.gender):\n",
    "    if j in ['male','female']:\n",
    "        genderizedict[str(i)]=str(j).title()"
   ]
  },
  {
   "cell_type": "code",
   "execution_count": null,
   "metadata": {},
   "outputs": [],
   "source": [
    "ethnicolor = pd.read_csv('CHESS/ethnicolor.csv')\n",
    "ethnicolordict = {}\n",
    "for i,j in zip(ethnicolor.fideid,ethnicolor.race):\n",
    "    r = j\n",
    "    if r == 'api':\n",
    "        r = 'asian'\n",
    "    ethnicolordict[str(i)]=str(r).title()"
   ]
  },
  {
   "cell_type": "code",
   "execution_count": null,
   "metadata": {},
   "outputs": [],
   "source": [
    "ethcnn = pd.read_csv('CHESS/ethcnn.csv')\n",
    "ethcnndict = {}\n",
    "for i,j in zip(ethcnn.fideid,ethcnn.ETHCNN_Pred):\n",
    "    r = j.split('_')[0]\n",
    "    if r == 'Caucasian':\n",
    "        r = 'White'\n",
    "    if r == 'African-American':\n",
    "        r = 'Black'\n",
    "    if r!='Native American':\n",
    "        ethcnndict[str(i)]=str(r).title()"
   ]
  },
  {
   "cell_type": "code",
   "execution_count": null,
   "metadata": {},
   "outputs": [],
   "source": [
    "nameprismdict = {}\n",
    "for i,row in chessdf.iterrows():\n",
    "    r = getnameprismrace(row['name'])\n",
    "    if r == 'API':\n",
    "        r = 'Asian'\n",
    "    nameprismdict[str(row['fideid'])]=r"
   ]
  },
  {
   "cell_type": "code",
   "execution_count": null,
   "metadata": {},
   "outputs": [],
   "source": [
    "chessrank_cnn_gen = []\n",
    "\n",
    "for t in chessrank_base:\n",
    "    entry = t.copy()\n",
    "    if entry['id'] in ethcnndict and entry['id'] in genderizedict:\n",
    "        entry['attr'] = ethcnndict[entry['id']]+'_'+genderizedict[entry['id']]\n",
    "        chessrank_cnn_gen.append(entry)"
   ]
  },
  {
   "cell_type": "code",
   "execution_count": null,
   "metadata": {},
   "outputs": [],
   "source": [
    "chessrank_ethnicolor_gen = []\n",
    "\n",
    "for t in chessrank_base:\n",
    "    entry = t.copy()\n",
    "    if entry['id'] in ethnicolordict and entry['id'] in genderizedict:\n",
    "        entry['attr'] = ethnicolordict[entry['id']]+'_'+genderizedict[entry['id']]\n",
    "        chessrank_ethnicolor_gen.append(entry)"
   ]
  },
  {
   "cell_type": "code",
   "execution_count": null,
   "metadata": {},
   "outputs": [],
   "source": [
    "chessrank_nameprism_gen = []\n",
    "\n",
    "for t in chessrank_base:\n",
    "    entry = t.copy()\n",
    "    if entry['id'] in nameprismdict and entry['id'] in genderizedict:\n",
    "        entry['attr'] = nameprismdict[entry['id']]+'_'+genderizedict[entry['id']]\n",
    "        chessrank_nameprism_gen.append(entry)"
   ]
  },
  {
   "cell_type": "code",
   "execution_count": null,
   "metadata": {},
   "outputs": [],
   "source": [
    "chessdist = getdist(chessrank_base)\n",
    "allat = {'Asian_Female',\n",
    " 'Asian_Male',\n",
    " 'Black_Female',\n",
    " 'Black_Male',\n",
    " 'Hispanic_Female',\n",
    " 'Hispanic_Male',\n",
    " 'White_Female',\n",
    " 'White_Male'}\n",
    "for a in allat:\n",
    "    if a not in chessdist:\n",
    "        chessdist[a] = 0"
   ]
  },
  {
   "cell_type": "code",
   "execution_count": null,
   "metadata": {},
   "outputs": [],
   "source": [
    "chess_detconst_oracle = det_const_sort(chessrank_base,chessdist,K)\n",
    "chess_detconst_deepface = det_const_sort(chessrank_deepface,chessdist,K)\n",
    "chess_detconst_cnn_gen = det_const_sort(chessrank_cnn_gen,chessdist,K)\n",
    "chess_detconst_ethnicolor_gen = det_const_sort(chessrank_ethnicolor_gen,chessdist,K)\n",
    "chess_detconst_nameprism_gen = det_const_sort(chessrank_nameprism_gen,chessdist,K)"
   ]
  },
  {
   "cell_type": "code",
   "execution_count": null,
   "metadata": {},
   "outputs": [],
   "source": [
    "# method_names = ['Baseline','Oracle','Cnn_Gen','EthniColr_Gen','Nameprism_Gen','DeepFace']\n",
    "method_names = ['BASE','ORCL','CNNG','ECLG','NPMG','DPFC']\n",
    "chessrankedlists = [chessrank_base,\n",
    "               chess_detconst_oracle,\n",
    "               chess_detconst_cnn_gen,\n",
    "               chess_detconst_ethnicolor_gen,\n",
    "               chess_detconst_nameprism_gen,\n",
    "               chess_detconst_deepface]"
   ]
  },
  {
   "cell_type": "code",
   "execution_count": null,
   "metadata": {},
   "outputs": [],
   "source": [
    "chess_NDKL_dic = {}\n",
    "chess_NDCG_dic = {}\n",
    "chess_skew_dic = {}\n",
    "chess_att_dic = {}\n",
    "chess_att_dic_list = {}\n",
    "chess_ABR_dic = {}\n",
    "chess_rankdelta_dic = {}\n",
    "chess_rankdelta_dic_list = {}\n",
    "\n",
    "\n",
    "for method_name, rankedlist in zip(method_names, chessrankedlists):\n",
    "    chess_NDKL_dic[method_name] = NDKL(rankedlist[:K], chessdist)\n",
    "    chess_NDCG_dic[method_name] = NDCG(rankedlist[:K], K)\n",
    "    chess_skew_dic[method_name] = getskews(rankedlist[:K],chessdist)\n",
    "    ad = get_attention(rankedlist[:K],dist='geometric',p=0.015)\n",
    "    chess_att_dic[method_name] = ad\n",
    "    chess_ABR_dic[method_name] = min(ad.values())/max(ad.values())\n",
    "    rd = get_rankdelta(rankedlist[:K])\n",
    "    chess_rankdelta_dic[method_name] = abs(max(rd.values(),key=abs))\n",
    "    chess_rankdelta_dic_list[method_name] = get_rankdelta_list(rankedlist[:K])\n",
    "    chess_att_dic_list[method_name] = get_attention_list(rankedlist[:K],dist='geometric',p=0.015)"
   ]
  },
  {
   "cell_type": "code",
   "execution_count": null,
   "metadata": {},
   "outputs": [],
   "source": [
    "smallplot(chess_NDKL_dic,'darkolivegreen','chess_NDKL.pdf')"
   ]
  },
  {
   "cell_type": "code",
   "execution_count": null,
   "metadata": {},
   "outputs": [],
   "source": [
    "smallplot(chess_ABR_dic,'brown','chess_ABR.pdf')"
   ]
  },
  {
   "cell_type": "code",
   "execution_count": null,
   "metadata": {},
   "outputs": [],
   "source": [
    "smallplot(chess_NDCG_dic,'blue','chess_NDCG.pdf')"
   ]
  },
  {
   "cell_type": "code",
   "execution_count": null,
   "metadata": {},
   "outputs": [],
   "source": [
    "smallplot(chess_rankdelta_dic,'teal','chess_rankdelta.pdf')"
   ]
  },
  {
   "cell_type": "code",
   "execution_count": null,
   "metadata": {},
   "outputs": [],
   "source": [
    "largeplot(chess_skew_dic,\"Skew\",'chess_skew.pdf')"
   ]
  },
  {
   "cell_type": "code",
   "execution_count": null,
   "metadata": {},
   "outputs": [],
   "source": [
    "largeplot(chess_att_dic,\"Attention\",'chess_att.pdf')"
   ]
  },
  {
   "cell_type": "code",
   "execution_count": null,
   "metadata": {},
   "outputs": [],
   "source": [
    "boxplot(chess_att_dic_list,\"Attention\",'chess_att_list.pdf',log=False)"
   ]
  },
  {
   "cell_type": "code",
   "execution_count": null,
   "metadata": {},
   "outputs": [],
   "source": [
    "boxplot(chess_rankdelta_dic_list,\"Rank Boost\",'chess_rankdelta_list.pdf',log=False)"
   ]
  },
  {
   "cell_type": "markdown",
   "metadata": {},
   "source": [
    "## Entrepreneurs"
   ]
  },
  {
   "cell_type": "code",
   "execution_count": null,
   "metadata": {},
   "outputs": [],
   "source": [
    "K = 300"
   ]
  },
  {
   "cell_type": "code",
   "execution_count": null,
   "metadata": {},
   "outputs": [],
   "source": [
    "entdf = pd.read_csv('ENTREPRENEURS/startupfounders_rankings.csv')"
   ]
  },
  {
   "cell_type": "code",
   "execution_count": null,
   "metadata": {},
   "outputs": [],
   "source": [
    "entdf"
   ]
  },
  {
   "cell_type": "code",
   "execution_count": null,
   "metadata": {},
   "outputs": [],
   "source": [
    "entlist_base = []"
   ]
  },
  {
   "cell_type": "code",
   "execution_count": null,
   "metadata": {},
   "outputs": [],
   "source": [
    "entlabels_maj = json.load(open('ENTREPRENEURS/entlabels_majority.json'))"
   ]
  },
  {
   "cell_type": "code",
   "execution_count": null,
   "metadata": {},
   "outputs": [],
   "source": [
    "def getrace_ent(fid):\n",
    "    if str(fid) not in entlabels_maj:\n",
    "        return \"err\"\n",
    "    rc = entlabels_maj[str(fid)]\n",
    "    if rc == 'White/Caucasian (Non hispanic)':\n",
    "        return 'White'\n",
    "    elif rc == 'Asian (Far East, Southeast Asia, and the Indian subcontinent)':\n",
    "        return 'Asian'\n",
    "    elif rc == 'Hispanic/Latino':\n",
    "        return 'Hispanic'\n",
    "    elif rc == 'Black/African':\n",
    "        return 'Black'\n",
    "    else:\n",
    "        return \"err\""
   ]
  },
  {
   "cell_type": "code",
   "execution_count": null,
   "metadata": {},
   "outputs": [],
   "source": [
    "entdf['race'] = entdf['UID'].apply(getrace_ent)\n",
    "entdf = entdf[entdf['race']!='err']\n",
    "entdf['Grp'] = entdf['race'].astype(str)+'_'+entdf['gender'].astype(str)\n",
    "tbr = []\n",
    "cnt = Counter(entdf['Grp'])\n",
    "for g in cnt:\n",
    "#     if (1/K)/(cnt[g]/len(entdf))>1.5:\n",
    "    if (cnt[g]/len(entdf))<0.01:\n",
    "        tbr.append(g)\n",
    "print(tbr)\n",
    "entdf = entdf[~entdf['Grp'].isin(tbr)]"
   ]
  },
  {
   "cell_type": "code",
   "execution_count": null,
   "metadata": {},
   "outputs": [],
   "source": [
    "entrank_base = []\n",
    "for i,row in entdf.iterrows():\n",
    "    g = row['gender']\n",
    "    if g in ['Male','Female']:\n",
    "        entrank_base.append({'real_rank':i+1,'rank':i+1,'id':str(row['UID']), 'attr':str(row['race'])+'_'+g,\n",
    "                           'real_attr':str(row['race'])+'_'+g, 'score':int(row['Inflation adjusted Amount'])})"
   ]
  },
  {
   "cell_type": "code",
   "execution_count": null,
   "metadata": {},
   "outputs": [],
   "source": [
    "entrank_deepface = []\n",
    "temp = {}\n",
    "\n",
    "f = open('ENTREPRENEURS/deepface.txt')\n",
    "for line in f.readlines():\n",
    "    items = line.split(\"\\t\")\n",
    "    g = \"\"\n",
    "    if items[1]=='Man':\n",
    "        g = 'Male'\n",
    "    else:\n",
    "        g = 'Female'\n",
    "    r = items[2][:-1]\n",
    "    race = \"\"\n",
    "    if r == \"white\" or r == \"middle eastern\":\n",
    "        race = \"White\"\n",
    "    if r == \"latino hispanic\":\n",
    "        race = \"Hispanic\"\n",
    "    if r == \"asian\" or r==\"indian\":\n",
    "        race = \"Asian\"\n",
    "    if r == \"black\":\n",
    "        race = \"Black\"\n",
    "    ui = items[0].split('/')[-1][:-4]\n",
    "    temp[ui] = race+\"_\"+g\n",
    "f.close()\n",
    "\n",
    "for t in entrank_base:\n",
    "    entry = t.copy()\n",
    "    if entry['id'] in temp:\n",
    "        entry['attr'] = temp[entry['id']]\n",
    "        entrank_deepface.append(entry)"
   ]
  },
  {
   "cell_type": "code",
   "execution_count": null,
   "metadata": {},
   "outputs": [],
   "source": [
    "entgenderize = pd.read_csv('ENTREPRENEURS/genderize.csv')\n",
    "entgenderizedict = {}\n",
    "for i,j in zip(entgenderize.UID,entgenderize.gender):\n",
    "    if j in ['male','female']:\n",
    "        entgenderizedict[str(i)]=str(j).title()"
   ]
  },
  {
   "cell_type": "code",
   "execution_count": null,
   "metadata": {},
   "outputs": [],
   "source": [
    "entethnicolor = pd.read_csv('ENTREPRENEURS/ethnicolor.csv')\n",
    "entethnicolordict = {}\n",
    "for i,j in zip(entethnicolor.UID,entethnicolor.race):\n",
    "    r = j\n",
    "    if r == 'api':\n",
    "        r = 'asian'\n",
    "    entethnicolordict[str(i)]=str(r).title()"
   ]
  },
  {
   "cell_type": "code",
   "execution_count": null,
   "metadata": {},
   "outputs": [],
   "source": [
    "entethcnn = pd.read_csv('ENTREPRENEURS/ethcnn.csv')\n",
    "entethcnndict = {}\n",
    "for i,j in zip(entethcnn.UID,entethcnn.ETHCNN_Pred):\n",
    "    r = j.split('_')[0]\n",
    "    if r == 'Caucasian':\n",
    "        r = 'White'\n",
    "    if r == 'African-American':\n",
    "        r = 'Black'\n",
    "    if r!='Native American':\n",
    "        entethcnndict[str(i)]=str(r).title()"
   ]
  },
  {
   "cell_type": "code",
   "execution_count": null,
   "metadata": {},
   "outputs": [],
   "source": [
    "entnameprismdict = {}\n",
    "for i,row in entdf.iterrows():\n",
    "    r = getnameprismrace(row['Foundername'])\n",
    "    if r == 'API':\n",
    "        r = 'Asian'\n",
    "    entnameprismdict[str(row['UID'])]=r"
   ]
  },
  {
   "cell_type": "code",
   "execution_count": null,
   "metadata": {},
   "outputs": [],
   "source": [
    "entrank_cnn_gen = []\n",
    "\n",
    "for t in entrank_base:\n",
    "    entry = t.copy()\n",
    "    if entry['id'] in entethcnndict and entry['id'] in entgenderizedict:\n",
    "        entry['attr'] = entethcnndict[entry['id']]+'_'+entgenderizedict[entry['id']]\n",
    "        entrank_cnn_gen.append(entry)"
   ]
  },
  {
   "cell_type": "code",
   "execution_count": null,
   "metadata": {},
   "outputs": [],
   "source": [
    "entrank_ethnicolor_gen = []\n",
    "\n",
    "for t in entrank_base:\n",
    "    entry = t.copy()\n",
    "    if entry['id'] in entethnicolordict and entry['id'] in entgenderizedict:\n",
    "        entry['attr'] = entethnicolordict[entry['id']]+'_'+entgenderizedict[entry['id']]\n",
    "        entrank_ethnicolor_gen.append(entry)"
   ]
  },
  {
   "cell_type": "code",
   "execution_count": null,
   "metadata": {},
   "outputs": [],
   "source": [
    "entrank_nameprism_gen = []\n",
    "\n",
    "for t in entrank_base:\n",
    "    entry = t.copy()\n",
    "    if entry['id'] in entnameprismdict and entry['id'] in entgenderizedict:\n",
    "        entry['attr'] = entnameprismdict[entry['id']]+'_'+entgenderizedict[entry['id']]\n",
    "        entrank_nameprism_gen.append(entry)"
   ]
  },
  {
   "cell_type": "code",
   "execution_count": null,
   "metadata": {},
   "outputs": [],
   "source": [
    "entdist = getdist(entrank_base)\n",
    "allat = {'Asian_Female',\n",
    " 'Asian_Male',\n",
    " 'Black_Female',\n",
    " 'Black_Male',\n",
    " 'Hispanic_Female',\n",
    " 'Hispanic_Male',\n",
    " 'White_Female',\n",
    " 'White_Male'}\n",
    "for a in allat:\n",
    "    if a not in entdist:\n",
    "        entdist[a] = 0"
   ]
  },
  {
   "cell_type": "code",
   "execution_count": null,
   "metadata": {},
   "outputs": [],
   "source": [
    "ent_detconst_oracle = det_const_sort(entrank_base,entdist,K)\n",
    "ent_detconst_deepface = det_const_sort(entrank_deepface,entdist,K)\n",
    "ent_detconst_cnn_gen = det_const_sort(entrank_cnn_gen,entdist,K)\n",
    "ent_detconst_nameprism_gen = det_const_sort(entrank_nameprism_gen,entdist,K)\n",
    "ent_detconst_ethnicolor_gen = det_const_sort(entrank_ethnicolor_gen,entdist,K)"
   ]
  },
  {
   "cell_type": "code",
   "execution_count": null,
   "metadata": {},
   "outputs": [],
   "source": [
    "method_names = ['BASE','ORCL','CNNG','ECLG','NPMG','DPFC']\n",
    "entrankedlists = [entrank_base,\n",
    "               ent_detconst_oracle,\n",
    "               ent_detconst_cnn_gen,\n",
    "               ent_detconst_ethnicolor_gen,\n",
    "               ent_detconst_nameprism_gen,\n",
    "               ent_detconst_deepface]"
   ]
  },
  {
   "cell_type": "code",
   "execution_count": null,
   "metadata": {},
   "outputs": [],
   "source": [
    "ent_NDKL_dic = {}\n",
    "ent_NDCG_dic = {}\n",
    "ent_skew_dic = {}\n",
    "ent_att_dic = {}\n",
    "ent_att_dic_list = {}\n",
    "ent_ABR_dic = {}\n",
    "ent_rankdelta_dic = {}\n",
    "ent_rankdelta_dic_list = {}\n",
    "\n",
    "\n",
    "for method_name, rankedlist in zip(method_names, entrankedlists):\n",
    "    ent_NDKL_dic[method_name] = NDKL(rankedlist[:K], entdist)\n",
    "    ent_NDCG_dic[method_name] = NDCG(rankedlist[:K], K)\n",
    "    ent_skew_dic[method_name] = getskews(rankedlist[:K],entdist)\n",
    "    ad = get_attention(rankedlist[:K],dist='geometric',p=0.015)\n",
    "    ent_att_dic[method_name] = ad\n",
    "    ent_ABR_dic[method_name] = min(ad.values())/max(ad.values())\n",
    "    rd = get_rankdelta(rankedlist[:K])\n",
    "    am = abs(max(rd.values(),key=abs))\n",
    "    ent_rankdelta_dic[method_name] = am\n",
    "    ent_rankdelta_dic_list[method_name] = get_rankdelta_list(rankedlist[:K])\n",
    "    ent_att_dic_list[method_name] = get_attention_list(rankedlist[:K],dist='geometric',p=0.015)"
   ]
  },
  {
   "cell_type": "code",
   "execution_count": null,
   "metadata": {},
   "outputs": [],
   "source": [
    "smallplot(ent_NDKL_dic,'darkolivegreen','ent_NDKL.pdf')"
   ]
  },
  {
   "cell_type": "code",
   "execution_count": null,
   "metadata": {},
   "outputs": [],
   "source": [
    "smallplot(ent_ABR_dic,'brown','ent_ABR.pdf')"
   ]
  },
  {
   "cell_type": "code",
   "execution_count": null,
   "metadata": {},
   "outputs": [],
   "source": [
    "smallplot(ent_NDCG_dic,'blue','ent_NDCG.pdf')"
   ]
  },
  {
   "cell_type": "code",
   "execution_count": null,
   "metadata": {},
   "outputs": [],
   "source": [
    "smallplot(ent_rankdelta_dic,'teal','ent_rankdelta.pdf')"
   ]
  },
  {
   "cell_type": "code",
   "execution_count": null,
   "metadata": {},
   "outputs": [],
   "source": [
    "largeplot(ent_skew_dic,\"Skew\",'ent_skew.pdf')"
   ]
  },
  {
   "cell_type": "code",
   "execution_count": null,
   "metadata": {},
   "outputs": [],
   "source": [
    "largeplot(ent_att_dic,\"Attention\",'ent_att.pdf')"
   ]
  },
  {
   "cell_type": "code",
   "execution_count": null,
   "metadata": {},
   "outputs": [],
   "source": [
    "boxplot(ent_att_dic_list,\"Attention\",'ent_att_list.pdf',log=False)"
   ]
  },
  {
   "cell_type": "code",
   "execution_count": null,
   "metadata": {},
   "outputs": [],
   "source": [
    "boxplot(ent_rankdelta_dic_list,\"Rank Boost\",'ent_rankdelta_list.pdf',log=False)"
   ]
  },
  {
   "cell_type": "markdown",
   "metadata": {},
   "source": [
    "## Equestrians"
   ]
  },
  {
   "cell_type": "code",
   "execution_count": null,
   "metadata": {},
   "outputs": [],
   "source": [
    "K = 300"
   ]
  },
  {
   "cell_type": "code",
   "execution_count": null,
   "metadata": {},
   "outputs": [],
   "source": [
    "eqdf = pd.read_csv('EQUESTRIANS/equestrian_rankings.csv')"
   ]
  },
  {
   "cell_type": "code",
   "execution_count": null,
   "metadata": {},
   "outputs": [],
   "source": [
    "eqdf"
   ]
  },
  {
   "cell_type": "code",
   "execution_count": null,
   "metadata": {},
   "outputs": [],
   "source": [
    "eqlist_base = []"
   ]
  },
  {
   "cell_type": "code",
   "execution_count": null,
   "metadata": {},
   "outputs": [],
   "source": [
    "eqlabels_maj = json.load(open('EQUESTRIANS/eqlabels_majority.json'))"
   ]
  },
  {
   "cell_type": "code",
   "execution_count": null,
   "metadata": {},
   "outputs": [],
   "source": [
    "def getrace_eq(fid):\n",
    "    if str(fid) not in eqlabels_maj:\n",
    "        return \"err\"\n",
    "    rc = eqlabels_maj[str(fid)]\n",
    "    if rc == 'White/Caucasian (Non hispanic)':\n",
    "        return 'White'\n",
    "    elif rc == 'Asian (Far East, Southeast Asia, and the Indian subcontinent)':\n",
    "        return 'Asian'\n",
    "    elif rc == 'Hispanic/Latino':\n",
    "        return 'Hispanic'\n",
    "    elif rc == 'Black/African':\n",
    "        return 'Black'\n",
    "    else:\n",
    "        return \"err\""
   ]
  },
  {
   "cell_type": "code",
   "execution_count": null,
   "metadata": {},
   "outputs": [],
   "source": [
    "eqdf['race'] = eqdf['UID'].apply(getrace_eq)\n",
    "eqdf = eqdf[eqdf['race']!='err']\n",
    "eqdf['Grp'] = eqdf['race'].astype(str)+'_'+eqdf['gender'].astype(str)\n",
    "eqdf['Grp'] = eqdf['Grp'].str.strip()\n",
    "tbr = []\n",
    "cnt = Counter(eqdf['Grp'])\n",
    "for g in cnt:\n",
    "#     if (1/K)/(cnt[g]/len(eqdf))>1.5:\n",
    "    if (cnt[g]/len(eqdf))<0.01:\n",
    "        tbr.append(g)\n",
    "print(tbr)\n",
    "eqdf = eqdf[~eqdf['Grp'].isin(tbr)]"
   ]
  },
  {
   "cell_type": "code",
   "execution_count": null,
   "metadata": {},
   "outputs": [],
   "source": [
    "eqrank_base = []\n",
    "for i,row in eqdf.iterrows():\n",
    "    g = row['gender'].strip()\n",
    "    if g in ['Male','Female']:\n",
    "        eqrank_base.append({'real_rank':i+1,'rank':i+1,'id':str(row['UID']), 'attr':str(row['race'].strip())+'_'+g,\n",
    "                           'real_attr':str(row['race'].strip())+'_'+g, 'score':int(row['Score'])})"
   ]
  },
  {
   "cell_type": "code",
   "execution_count": null,
   "metadata": {},
   "outputs": [],
   "source": [
    "eqrank_deepface = []\n",
    "temp = {}\n",
    "\n",
    "f = open('EQUESTRIANS/deepface.txt')\n",
    "for line in f.readlines():\n",
    "    items = line.split(\"\\t\")\n",
    "    g = \"\"\n",
    "    if items[1]=='Man':\n",
    "        g = 'Male'\n",
    "    else:\n",
    "        g = 'Female'\n",
    "    r = items[2][:-1]\n",
    "    race = \"\"\n",
    "    if r == \"white\" or r == \"middle eastern\":\n",
    "        race = \"White\"\n",
    "    if r == \"latino hispanic\":\n",
    "        race = \"Hispanic\"\n",
    "    if r == \"asian\" or r==\"indian\":\n",
    "        race = \"Asian\"\n",
    "    if r == \"black\":\n",
    "        race = \"Black\"\n",
    "    ui = items[0].split('/')[-1][:-4]\n",
    "    temp[ui] = race+\"_\"+g\n",
    "f.close()\n",
    "\n",
    "for t in eqrank_base:\n",
    "    eqry = t.copy()\n",
    "    if eqry['id'] in temp:\n",
    "        eqry['attr'] = temp[eqry['id']]\n",
    "        eqrank_deepface.append(eqry)"
   ]
  },
  {
   "cell_type": "code",
   "execution_count": null,
   "metadata": {},
   "outputs": [],
   "source": [
    "eqgenderize = pd.read_csv('EQUESTRIANS/genderize.csv')\n",
    "eqgenderizedict = {}\n",
    "for i,j in zip(eqgenderize.UID,eqgenderize.gender):\n",
    "    if j in ['male','female']:\n",
    "        eqgenderizedict[str(i)]=str(j).title()"
   ]
  },
  {
   "cell_type": "code",
   "execution_count": null,
   "metadata": {},
   "outputs": [],
   "source": [
    "eqethnicolor = pd.read_csv('EQUESTRIANS/ethnicolor.csv')\n",
    "eqethnicolordict = {}\n",
    "for i,j in zip(eqethnicolor.UID,eqethnicolor.race):\n",
    "    r = j\n",
    "    if r == 'api':\n",
    "        r = 'asian'\n",
    "    eqethnicolordict[str(i)]=str(r).title()"
   ]
  },
  {
   "cell_type": "code",
   "execution_count": null,
   "metadata": {},
   "outputs": [],
   "source": [
    "eqethcnn = pd.read_csv('EQUESTRIANS/ethcnn.csv')\n",
    "eqethcnndict = {}\n",
    "for i,j in zip(eqethcnn.UID,eqethcnn.ETHCNN_Pred):\n",
    "    r = j.split('_')[0]\n",
    "    if r == 'Caucasian':\n",
    "        r = 'White'\n",
    "    if r == 'African-American':\n",
    "        r = 'Black'\n",
    "    if r!='Native American':\n",
    "        eqethcnndict[str(i)]=str(r).title()"
   ]
  },
  {
   "cell_type": "code",
   "execution_count": null,
   "metadata": {},
   "outputs": [],
   "source": [
    "eqnameprismdict = {}\n",
    "for i,row in eqdf.iterrows():\n",
    "    r = getnameprismrace(row['Name'])\n",
    "    if r == 'API':\n",
    "        r = 'Asian'\n",
    "    eqnameprismdict[str(row['UID'])]=r"
   ]
  },
  {
   "cell_type": "code",
   "execution_count": null,
   "metadata": {},
   "outputs": [],
   "source": [
    "eqrank_cnn_gen = []\n",
    "\n",
    "for t in eqrank_base:\n",
    "    eqry = t.copy()\n",
    "    if eqry['id'] in eqethcnndict and eqry['id'] in eqgenderizedict:\n",
    "        eqry['attr'] = eqethcnndict[eqry['id']]+'_'+eqgenderizedict[eqry['id']]\n",
    "        eqrank_cnn_gen.append(eqry)"
   ]
  },
  {
   "cell_type": "code",
   "execution_count": null,
   "metadata": {},
   "outputs": [],
   "source": [
    "eqrank_ethnicolor_gen = []\n",
    "\n",
    "for t in eqrank_base:\n",
    "    eqry = t.copy()\n",
    "    if eqry['id'] in eqethnicolordict and eqry['id'] in eqgenderizedict:\n",
    "        eqry['attr'] = eqethnicolordict[eqry['id']]+'_'+eqgenderizedict[eqry['id']]\n",
    "        eqrank_ethnicolor_gen.append(eqry)"
   ]
  },
  {
   "cell_type": "code",
   "execution_count": null,
   "metadata": {},
   "outputs": [],
   "source": [
    "eqrank_nameprism_gen = []\n",
    "\n",
    "for t in eqrank_base:\n",
    "    eqry = t.copy()\n",
    "    if eqry['id'] in eqnameprismdict and eqry['id'] in eqgenderizedict:\n",
    "        eqry['attr'] = eqnameprismdict[eqry['id']]+'_'+eqgenderizedict[eqry['id']]\n",
    "        eqrank_nameprism_gen.append(eqry)"
   ]
  },
  {
   "cell_type": "code",
   "execution_count": null,
   "metadata": {},
   "outputs": [],
   "source": [
    "eqdist = getdist(eqrank_base)\n",
    "allat = {'Asian_Female',\n",
    " 'Asian_Male',\n",
    " 'Black_Female',\n",
    " 'Black_Male',\n",
    " 'Hispanic_Female',\n",
    " 'Hispanic_Male',\n",
    " 'White_Female',\n",
    " 'White_Male'}\n",
    "for a in allat:\n",
    "    if a not in eqdist:\n",
    "        eqdist[a] = 0"
   ]
  },
  {
   "cell_type": "code",
   "execution_count": null,
   "metadata": {},
   "outputs": [],
   "source": [
    "eq_detconst_oracle = det_const_sort(eqrank_base,eqdist,K)\n",
    "eq_detconst_deepface = det_const_sort(eqrank_deepface,eqdist,K)\n",
    "eq_detconst_cnn_gen = det_const_sort(eqrank_cnn_gen,eqdist,K)\n",
    "eq_detconst_ethnicolor_gen = det_const_sort(eqrank_ethnicolor_gen,eqdist,K)\n",
    "eq_detconst_nameprism_gen = det_const_sort(eqrank_nameprism_gen,eqdist,K)"
   ]
  },
  {
   "cell_type": "code",
   "execution_count": null,
   "metadata": {},
   "outputs": [],
   "source": [
    "method_names = ['BASE','ORCL','CNNG','ECLG','NPMG','DPFC']\n",
    "eqrankedlists = [eqrank_base,\n",
    "               eq_detconst_oracle,\n",
    "               eq_detconst_cnn_gen,\n",
    "               eq_detconst_ethnicolor_gen,\n",
    "               eq_detconst_nameprism_gen,\n",
    "               eq_detconst_deepface]"
   ]
  },
  {
   "cell_type": "code",
   "execution_count": null,
   "metadata": {},
   "outputs": [],
   "source": [
    "eq_NDKL_dic = {}\n",
    "eq_NDCG_dic = {}\n",
    "eq_skew_dic = {}\n",
    "eq_att_dic = {}\n",
    "eq_att_dic_list = {}\n",
    "eq_ABR_dic = {}\n",
    "eq_rankdelta_dic = {}\n",
    "eq_rankdelta_dic_list = {}\n",
    "\n",
    "\n",
    "for method_name, rankedlist in zip(method_names, eqrankedlists):\n",
    "    eq_NDKL_dic[method_name] = NDKL(rankedlist[:K], eqdist)\n",
    "    eq_NDCG_dic[method_name] = NDCG(rankedlist[:K], K)\n",
    "    eq_skew_dic[method_name] = getskews(rankedlist[:K],eqdist)\n",
    "    ad = get_attention(rankedlist[:K],dist='geometric',p=0.015)\n",
    "    eq_att_dic[method_name] = ad\n",
    "    eq_ABR_dic[method_name] = min(ad.values())/max(ad.values())\n",
    "    rd = get_rankdelta(rankedlist[:K])\n",
    "    eq_rankdelta_dic[method_name] = abs(max(rd.values(),key=abs))\n",
    "    eq_rankdelta_dic_list[method_name] = get_rankdelta_list(rankedlist[:K])\n",
    "    eq_att_dic_list[method_name] = get_attention_list(rankedlist[:K],dist='geometric',p=0.015)"
   ]
  },
  {
   "cell_type": "code",
   "execution_count": null,
   "metadata": {},
   "outputs": [],
   "source": [
    "smallplot(eq_NDKL_dic,'darkolivegreen','eq_NDKL.pdf')"
   ]
  },
  {
   "cell_type": "code",
   "execution_count": null,
   "metadata": {},
   "outputs": [],
   "source": [
    "smallplot(eq_ABR_dic,'brown','eq_ABR.pdf')"
   ]
  },
  {
   "cell_type": "code",
   "execution_count": null,
   "metadata": {},
   "outputs": [],
   "source": [
    "smallplot(eq_NDCG_dic,'blue','eq_NDCG.pdf')"
   ]
  },
  {
   "cell_type": "code",
   "execution_count": null,
   "metadata": {},
   "outputs": [],
   "source": [
    "smallplot(eq_rankdelta_dic,'teal','eq_rankdelta.pdf')"
   ]
  },
  {
   "cell_type": "code",
   "execution_count": null,
   "metadata": {},
   "outputs": [],
   "source": [
    "largeplot(eq_skew_dic,\"Skew\",'eq_skew.pdf')"
   ]
  },
  {
   "cell_type": "code",
   "execution_count": null,
   "metadata": {},
   "outputs": [],
   "source": [
    "largeplot(eq_att_dic,\"Attention\",'eq_att.pdf')"
   ]
  },
  {
   "cell_type": "code",
   "execution_count": null,
   "metadata": {},
   "outputs": [],
   "source": [
    "boxplot(eq_att_dic_list,\"Attention\",'eq_att_list.pdf')"
   ]
  },
  {
   "cell_type": "code",
   "execution_count": null,
   "metadata": {},
   "outputs": [],
   "source": [
    "boxplot(eq_rankdelta_dic_list,\"Rank Boost\",'eq_rankdelta_list.pdf')"
   ]
  },
  {
   "cell_type": "code",
   "execution_count": null,
   "metadata": {},
   "outputs": [],
   "source": []
  },
  {
   "cell_type": "code",
   "execution_count": null,
   "metadata": {},
   "outputs": [],
   "source": []
  },
  {
   "cell_type": "code",
   "execution_count": null,
   "metadata": {},
   "outputs": [],
   "source": [
    "len(chessrank_base), len(entrank_base), len(eqrank_base)"
   ]
  },
  {
   "cell_type": "code",
   "execution_count": null,
   "metadata": {},
   "outputs": [],
   "source": [
    "cats = ['White_Male', 'White_Female', 'Black_Male', 'Black_Female', 'Hispanic_Male', 'Hispanic_Female', 'Asian_Male', 'Asian_Female']\n",
    "color_list = ['orange','burlywood', 'blue', 'deepskyblue', 'forestgreen', 'mediumseagreen', 'deeppink','orchid']\n",
    "d2c = dict(zip(cats, color_list))\n",
    "\n",
    "\n",
    "df = pd.DataFrame({'EQ': eqdist, 'ENT': entdist, 'CHESS':chessdist})\n",
    "df = df.T\n",
    "\n",
    "plt.rcParams['axes.grid'] = True\n",
    "plt.rcParams['grid.alpha'] = 1\n",
    "plt.rcParams['grid.color'] = \"#cccccc\"\n",
    "plt.rcParams['axes.edgecolor'] = \"#cccccc\"\n",
    "plt.rcParams[\"figure.figsize\"] = (7,3)\n",
    "plt.rcParams[\"font.family\"] = 'DejaVu Serif'\n",
    "plt.rcParams[\"pdf.fonttype\"] = 42\n",
    "plt.rcParams[\"ps.fonttype\"] = 42\n",
    "\n",
    "#plt.grid(True)\n",
    "width = 0.4\n",
    "# if 'eq' in filename:\n",
    "#     width = 0.7\n",
    "\n",
    "ax = df.plot(y=sorted(list(df.columns)), width = width, edgecolor='black',\n",
    "              linewidth=0.5,kind=\"barh\",stacked = 'True', color=[d2c.get(cl) for cl in sorted(list(df.columns))])\n",
    "ax.set_facecolor('white')\n",
    "ax.get_legend().remove()\n",
    "ax.xaxis.grid(True,which='both')\n",
    "ax.yaxis.grid(False)#,which='both')\n",
    "ax.tick_params(axis='y', which='both',labelsize=13)\n",
    "ax.tick_params(axis='x', which='both',labelsize=13)\n",
    "ax.set_xlim([0.0,1.01])\n",
    "\n",
    "ax.xaxis.tick_top()\n",
    "\n",
    "#ax.set_yscale(\"log\")\n",
    "\n",
    "plt.yticks(weight='bold')\n",
    "\n",
    "tickercolors = ['orange','burlywood', 'blue',  'forestgreen',  'deeppink','orchid']\n",
    "cats = ['White Men', 'White Women', 'Black Men',  'Hispanic Men',  'Asian Men', 'Asian Women']\n",
    "\n",
    "#colors = ['orange','burlywood', 'forestgreen',  'deeppink','orchid']\n",
    "#cats = ['White Men', 'White Women',   'Hispanic Men',  'Asian Men', 'Asian Women']\n",
    "f = lambda m,c: plt.plot([],[],marker=m, color=c, ls=\"none\")[0]\n",
    "handles = [f(\"s\", tickercolors[i]) for i in range(len(tickercolors))]\n",
    "labels = cats\n",
    "plt.legend(handles, labels, loc=(-0.15,-0.25), framealpha=1,\n",
    "                    frameon=True,ncol=3,facecolor='white', prop = {'weight':'bold', 'size': 13})\n",
    "\n",
    "#plt.legend(loc=(1.04,0))\n",
    "# plt.ylabel('Dataset',size=13,weight='bold')\n",
    "# plt.xlabel('Fraction of subgroup in dataset',size=13,weight='bold')\n",
    "plt.xticks(rotation=0)#,weight='bold')\n",
    "for spine in ('bottom', 'right'): # 'bottom', 'left'): \n",
    "    plt.gca().spines[spine].set_visible(False)\n",
    "\n",
    "plt.savefig('Plots/database_fractions.pdf', bbox_inches='tight')\n",
    "plt.show()"
   ]
  },
  {
   "cell_type": "code",
   "execution_count": null,
   "metadata": {},
   "outputs": [],
   "source": []
  },
  {
   "cell_type": "code",
   "execution_count": null,
   "metadata": {},
   "outputs": [],
   "source": [
    "geo_df = {}\n",
    "geo_df['rank']=[]\n",
    "geo_df['value']=[]\n",
    "geo_df['type'] = []\n",
    "\n",
    "\n",
    "plt.rcParams['axes.grid'] = True\n",
    "plt.rcParams['grid.alpha'] = 1\n",
    "plt.rcParams['grid.color'] = \"#cccccc\"\n",
    "plt.rcParams['axes.edgecolor'] = \"#cccccc\"\n",
    "plt.rcParams[\"figure.figsize\"] = (6,3.25)\n",
    "plt.rcParams[\"font.family\"] = 'DejaVu Serif'\n",
    "plt.rcParams[\"pdf.fonttype\"] = 42\n",
    "plt.rcParams[\"ps.fonttype\"] = 42\n",
    "\n",
    "prob_vals = [0.0001, 0.01, 0.015, 0.02, 0.05, 'log']\n",
    "\n",
    "for p in prob_vals:\n",
    "    for i in range(1,1000):\n",
    "        if p!='log':\n",
    "            init_val = 1/p\n",
    "            geo_att_i = init_val*((1-p)**(i-1))*p    \n",
    "            geo_df['rank'].append(i)\n",
    "            geo_df['value'].append(geo_att_i)\n",
    "            geo_df['type'].append('geo-'+str(p))\n",
    "        else:\n",
    "            log_att_i = 1/(math.log2(1+i))\n",
    "            geo_df['rank'].append(i)\n",
    "            geo_df['value'].append(log_att_i)\n",
    "            geo_df['type'].append('log')\n",
    "\n",
    "geo_df = pd.DataFrame(geo_df)\n",
    "color_list2 = ['orange', 'blue', 'deepskyblue', 'forestgreen', 'deeppink','brown']\n",
    "\n",
    "sns.lineplot(data= geo_df, x= 'rank', y='value', hue='type', palette=color_list2)\n",
    "\n",
    "ax = plt.gca()\n",
    "ax.xaxis.grid(True,which='both')\n",
    "ax.yaxis.grid(True,which='both')\n",
    "\n",
    "\n",
    "\n",
    "ax.set_facecolor('white')\n",
    "ax.tick_params(axis='y', which='both',labelsize=13)\n",
    "ax.tick_params(axis='x', which='both',labelsize=13)\n",
    "ax.xaxis.set_minor_formatter(ScalarFormatter())\n",
    "ax.xaxis.set_major_formatter(ScalarFormatter())\n",
    "ax.yaxis.set_minor_formatter(ScalarFormatter())\n",
    "ax.yaxis.set_major_formatter(ScalarFormatter())\n",
    "ax.set_xlim([-20,500])\n",
    "\n",
    "\n",
    "plt.ylabel('Attention@k',fontsize=13,weight='bold')\n",
    "plt.xlabel('Rank (k)', fontsize =13,weight='bold')\n",
    "\n",
    "\n",
    "legend_list = ['Geo-'+str(i) if i!='log' else 'Log'  for i in prob_vals]\n",
    "plt.legend(legend_list,\n",
    "           facecolor='white', framealpha=1,\n",
    "           bbox_to_anchor=(0,-0.47,1,0.3), loc=\"lower left\",mode=\"expand\", borderaxespad=0, ncol=3,\n",
    "           prop={'size': 11, 'weight':'bold'})\n",
    "plt.savefig('Plots/geometric_log_ratio.pdf', bbox_inches='tight')"
   ]
  },
  {
   "cell_type": "code",
   "execution_count": null,
   "metadata": {},
   "outputs": [],
   "source": []
  }
 ],
 "metadata": {
  "kernelspec": {
   "display_name": "Python [conda env:py37]",
   "language": "python",
   "name": "conda-env-py37-py"
  },
  "language_info": {
   "codemirror_mode": {
    "name": "ipython",
    "version": 3
   },
   "file_extension": ".py",
   "mimetype": "text/x-python",
   "name": "python",
   "nbconvert_exporter": "python",
   "pygments_lexer": "ipython3",
   "version": "3.7.10"
  }
 },
 "nbformat": 4,
 "nbformat_minor": 4
}
